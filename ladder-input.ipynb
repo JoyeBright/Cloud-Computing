{
  "nbformat": 4,
  "nbformat_minor": 0,
  "metadata": {
    "colab": {
      "name": "ladder-input.ipynb",
      "provenance": [],
      "collapsed_sections": [],
      "toc_visible": true,
      "authorship_tag": "ABX9TyNrjuR1E6wTq5AUJ4pQnBsG",
      "include_colab_link": true
    },
    "kernelspec": {
      "name": "python3",
      "display_name": "Python 3"
    }
  },
  "cells": [
    {
      "cell_type": "markdown",
      "metadata": {
        "id": "view-in-github",
        "colab_type": "text"
      },
      "source": [
        "<a href=\"https://colab.research.google.com/github/JoyeBright/Cloud-Computing/blob/master/ladder-input.ipynb\" target=\"_parent\"><img src=\"https://colab.research.google.com/assets/colab-badge.svg\" alt=\"Open In Colab\"/></a>"
      ]
    },
    {
      "cell_type": "markdown",
      "metadata": {
        "id": "HfYNcqF7-XRs",
        "colab_type": "text"
      },
      "source": [
        "## **Dataset Preparation**"
      ]
    },
    {
      "cell_type": "code",
      "metadata": {
        "id": "OlJSl3VuGwvX",
        "colab_type": "code",
        "colab": {}
      },
      "source": [
        "SOURCE_URL = 'http://yann.lecun.com/exdb/mnist/'"
      ],
      "execution_count": 0,
      "outputs": []
    },
    {
      "cell_type": "code",
      "metadata": {
        "id": "YxuJg2PRFQot",
        "colab_type": "code",
        "colab": {}
      },
      "source": [
        "def maybe_download(filename, work_directory):\n",
        "  if not os.path.exists(work_directory):\n",
        "    os.mkdir(work_directory)\n",
        "  filepath = os.path.join(work_directory, filname)\n",
        "  \n",
        "  if not os.path.exists(filepath):\n",
        "    filepath, _ = urllib.urlretrieve(SOURCE_URL + filename, filepath)\n",
        "    statinfo = os.stat(filepath)\n",
        "    print('Succesfully downloaded', filename, statinfo.st_size, 'bytes.')\n",
        "  return filepath\n"
      ],
      "execution_count": 0,
      "outputs": []
    },
    {
      "cell_type": "code",
      "metadata": {
        "id": "wAYo7yHgJUmh",
        "colab_type": "code",
        "colab": {}
      },
      "source": [
        "def _read32(bytestream):\n",
        "  dt = numpy.dtype(numpy.uint32).newbyteorder('>')\n",
        "  return numpy.frombuffer(bytestream.read(4), dtype=dt)[0]"
      ],
      "execution_count": 0,
      "outputs": []
    },
    {
      "cell_type": "code",
      "metadata": {
        "id": "oxIhkNz7KHL7",
        "colab_type": "code",
        "colab": {}
      },
      "source": [
        "def extract_images(filename):\n",
        "  \"\"\"Extract the images into a 4D uint8 numpy array [index, y, x, depth].\"\"\"\n",
        "  print('extracting', filename)\n",
        "  with gzip.open(filename) as bytestream:\n",
        "    magic = _read32(bytestream)\n",
        "    if magic != 2051:\n",
        "      raise ValueError(\n",
        "          'Invalid magic number %d in MNIST image file: %s' %\n",
        "      (magic, filename))"
      ],
      "execution_count": 0,
      "outputs": []
    },
    {
      "cell_type": "code",
      "metadata": {
        "id": "10rp-IJZ_yz0",
        "colab_type": "code",
        "colab": {}
      },
      "source": [
        "class DataSet(object):\n",
        "\n",
        "  def __init__(self, images, labels, fake_data= False):\n",
        "    if fake_data:\n",
        "      self._num_examples= 10000\n",
        "    else:\n",
        "      assert images.shape[0] == label.shape[0], (\"images.shape: %s labels.shape: %s\" % (images.shape, labels.shape))\n",
        "\n",
        "      self._number_examples=images.shape[0]\n",
        "\n",
        "      assert images.shape[3] == 1\n",
        "\n",
        "      images = images.reshape(images.shape[0], images.shape[1] * images.shape[2])\n",
        "      images = images.astype(numpy.float32)\n",
        "      images = numpy.multiply(images, 1.0 / 255.0)\n",
        "\n",
        "    self._images = images\n",
        "    self._labels = labels\n",
        "    self._epochs_completed = 0\n",
        "    self._index_in_epoch = 0\n",
        "\n",
        "  @property\n",
        "  def images(self):\n",
        "    return self._images\n",
        "\n",
        "  @property\n",
        "  def labels(self):\n",
        "    return self._labels\n",
        "\n",
        "  @property\n",
        "  def num_examples(self):\n",
        "    return self._num_examples\n",
        "\n",
        "  @property\n",
        "  def epochs_completed(self):\n",
        "    return self._epochs_completed"
      ],
      "execution_count": 0,
      "outputs": []
    },
    {
      "cell_type": "code",
      "metadata": {
        "id": "p6V6lccR-oag",
        "colab_type": "code",
        "colab": {}
      },
      "source": [
        "def read_data_sets(train_dir, n_labeled = 100, fake_data=False, one_hot=False):\n",
        "  class DataSets(object):\n",
        "    pass\n",
        "  data_sets = DataSets()\n",
        "\n",
        "  if fake_data:\n",
        "    data_sets.train = DataSet([], [], fake_data=True)\n",
        "    data_sets.validation = DataSet([], [], fake_data=True)\n",
        "    data_sets.test = DataSet([], [], fake_data=True)\n",
        "    return data_sets\n",
        "\n",
        "  # datasets\n",
        "  TRAIN_IMAGES = 'train-images-idx3-ubyte.gz'\n",
        "  TRAIN_LABELS = 'train-labels-idx1-ubyte.gz'\n",
        "  TEST_IMAGES = 't10k-images-idx3-ubyte.gz'\n",
        "  TEST_LABELS = 't10k-labels-idx1-ubyte.gz'\n",
        "  VALIDATION_SIZE = 0\n",
        "\n",
        "  local_file = maybe_download(TRAIN_IMAGES, train_dir)\n",
        "  train_images = extract_images(local_file)\n",
        "\n",
        "  local_file = maybe_download(TRAIN_LABELS, train_dir)\n",
        "  train_labels = extract_labels(local_file, one_hot=one_hot)"
      ],
      "execution_count": 0,
      "outputs": []
    }
  ]
}