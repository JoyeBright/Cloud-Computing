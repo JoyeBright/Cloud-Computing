{
  "nbformat": 4,
  "nbformat_minor": 0,
  "metadata": {
    "colab": {
      "name": "NMT_S2S_Attention_Per_Eng.ipynb",
      "provenance": [],
      "collapsed_sections": [],
      "mount_file_id": "1PGxuxdA_1N2kYa9iSZLIFCdj0HtCBYtL",
      "authorship_tag": "ABX9TyOK54Dvhcq7mywWPVGPg2dO",
      "include_colab_link": true
    },
    "kernelspec": {
      "name": "python3",
      "display_name": "Python 3"
    },
    "accelerator": "GPU"
  },
  "cells": [
    {
      "cell_type": "markdown",
      "metadata": {
        "id": "view-in-github",
        "colab_type": "text"
      },
      "source": [
        "<a href=\"https://colab.research.google.com/github/JoyeBright/Cloud-Computing/blob/master/NMT_S2S_Attention_Per_Eng.ipynb\" target=\"_parent\"><img src=\"https://colab.research.google.com/assets/colab-badge.svg\" alt=\"Open In Colab\"/></a>"
      ]
    },
    {
      "cell_type": "markdown",
      "metadata": {
        "id": "47SI7-dTSvb7"
      },
      "source": [
        "## **Hardware spec.**"
      ]
    },
    {
      "cell_type": "code",
      "metadata": {
        "colab": {
          "base_uri": "https://localhost:8080/"
        },
        "id": "1jsQQtyrRbDo",
        "outputId": "164f81b9-7c6b-4960-9dc7-d4340187f640"
      },
      "source": [
        "!cat /proc/cpuinfo\n",
        "!cat /proc/meminfo"
      ],
      "execution_count": 1,
      "outputs": [
        {
          "output_type": "stream",
          "text": [
            "processor\t: 0\n",
            "vendor_id\t: GenuineIntel\n",
            "cpu family\t: 6\n",
            "model\t\t: 63\n",
            "model name\t: Intel(R) Xeon(R) CPU @ 2.30GHz\n",
            "stepping\t: 0\n",
            "microcode\t: 0x1\n",
            "cpu MHz\t\t: 2299.998\n",
            "cache size\t: 46080 KB\n",
            "physical id\t: 0\n",
            "siblings\t: 2\n",
            "core id\t\t: 0\n",
            "cpu cores\t: 1\n",
            "apicid\t\t: 0\n",
            "initial apicid\t: 0\n",
            "fpu\t\t: yes\n",
            "fpu_exception\t: yes\n",
            "cpuid level\t: 13\n",
            "wp\t\t: yes\n",
            "flags\t\t: fpu vme de pse tsc msr pae mce cx8 apic sep mtrr pge mca cmov pat pse36 clflush mmx fxsr sse sse2 ss ht syscall nx pdpe1gb rdtscp lm constant_tsc rep_good nopl xtopology nonstop_tsc cpuid tsc_known_freq pni pclmulqdq ssse3 fma cx16 pcid sse4_1 sse4_2 x2apic movbe popcnt aes xsave avx f16c rdrand hypervisor lahf_lm abm invpcid_single ssbd ibrs ibpb stibp fsgsbase tsc_adjust bmi1 avx2 smep bmi2 erms invpcid xsaveopt arat md_clear arch_capabilities\n",
            "bugs\t\t: cpu_meltdown spectre_v1 spectre_v2 spec_store_bypass l1tf mds swapgs\n",
            "bogomips\t: 4599.99\n",
            "clflush size\t: 64\n",
            "cache_alignment\t: 64\n",
            "address sizes\t: 46 bits physical, 48 bits virtual\n",
            "power management:\n",
            "\n",
            "processor\t: 1\n",
            "vendor_id\t: GenuineIntel\n",
            "cpu family\t: 6\n",
            "model\t\t: 63\n",
            "model name\t: Intel(R) Xeon(R) CPU @ 2.30GHz\n",
            "stepping\t: 0\n",
            "microcode\t: 0x1\n",
            "cpu MHz\t\t: 2299.998\n",
            "cache size\t: 46080 KB\n",
            "physical id\t: 0\n",
            "siblings\t: 2\n",
            "core id\t\t: 0\n",
            "cpu cores\t: 1\n",
            "apicid\t\t: 1\n",
            "initial apicid\t: 1\n",
            "fpu\t\t: yes\n",
            "fpu_exception\t: yes\n",
            "cpuid level\t: 13\n",
            "wp\t\t: yes\n",
            "flags\t\t: fpu vme de pse tsc msr pae mce cx8 apic sep mtrr pge mca cmov pat pse36 clflush mmx fxsr sse sse2 ss ht syscall nx pdpe1gb rdtscp lm constant_tsc rep_good nopl xtopology nonstop_tsc cpuid tsc_known_freq pni pclmulqdq ssse3 fma cx16 pcid sse4_1 sse4_2 x2apic movbe popcnt aes xsave avx f16c rdrand hypervisor lahf_lm abm invpcid_single ssbd ibrs ibpb stibp fsgsbase tsc_adjust bmi1 avx2 smep bmi2 erms invpcid xsaveopt arat md_clear arch_capabilities\n",
            "bugs\t\t: cpu_meltdown spectre_v1 spectre_v2 spec_store_bypass l1tf mds swapgs\n",
            "bogomips\t: 4599.99\n",
            "clflush size\t: 64\n",
            "cache_alignment\t: 64\n",
            "address sizes\t: 46 bits physical, 48 bits virtual\n",
            "power management:\n",
            "\n",
            "MemTotal:       13333580 kB\n",
            "MemFree:         6145436 kB\n",
            "MemAvailable:   12440216 kB\n",
            "Buffers:          104000 kB\n",
            "Cached:          6239104 kB\n",
            "SwapCached:            0 kB\n",
            "Active:          1360764 kB\n",
            "Inactive:        5428712 kB\n",
            "Active(anon):     401084 kB\n",
            "Inactive(anon):      372 kB\n",
            "Active(file):     959680 kB\n",
            "Inactive(file):  5428340 kB\n",
            "Unevictable:           0 kB\n",
            "Mlocked:               0 kB\n",
            "SwapTotal:             0 kB\n",
            "SwapFree:              0 kB\n",
            "Dirty:               668 kB\n",
            "Writeback:             0 kB\n",
            "AnonPages:        446276 kB\n",
            "Mapped:           250328 kB\n",
            "Shmem:              1116 kB\n",
            "Slab:             277692 kB\n",
            "SReclaimable:     232000 kB\n",
            "SUnreclaim:        45692 kB\n",
            "KernelStack:        4656 kB\n",
            "PageTables:         6188 kB\n",
            "NFS_Unstable:          0 kB\n",
            "Bounce:                0 kB\n",
            "WritebackTmp:          0 kB\n",
            "CommitLimit:     6666788 kB\n",
            "Committed_AS:    3305712 kB\n",
            "VmallocTotal:   34359738367 kB\n",
            "VmallocUsed:           0 kB\n",
            "VmallocChunk:          0 kB\n",
            "Percpu:             1048 kB\n",
            "AnonHugePages:         0 kB\n",
            "ShmemHugePages:        0 kB\n",
            "ShmemPmdMapped:        0 kB\n",
            "HugePages_Total:       0\n",
            "HugePages_Free:        0\n",
            "HugePages_Rsvd:        0\n",
            "HugePages_Surp:        0\n",
            "Hugepagesize:       2048 kB\n",
            "Hugetlb:               0 kB\n",
            "DirectMap4k:      210152 kB\n",
            "DirectMap2M:    10274816 kB\n",
            "DirectMap1G:     5242880 kB\n"
          ],
          "name": "stdout"
        }
      ]
    },
    {
      "cell_type": "markdown",
      "metadata": {
        "id": "99p-OKLPSs0k"
      },
      "source": [
        "## **Import headers**"
      ]
    },
    {
      "cell_type": "code",
      "metadata": {
        "id": "vZfqBktrTczU"
      },
      "source": [
        "import tensorflow as tf\n",
        "\n",
        "import matplotlib.ticker as ticker\n",
        "from sklearn.model_selection import train_test_split\n",
        "\n",
        "import numpy as np\n",
        "import unicodedata\n",
        "import re\n",
        "import io"
      ],
      "execution_count": 60,
      "outputs": []
    },
    {
      "cell_type": "code",
      "metadata": {
        "colab": {
          "base_uri": "https://localhost:8080/"
        },
        "id": "kYlw1-9NazUq",
        "outputId": "c422b1b0-c127-45b6-ae94-fcbccde50b87"
      },
      "source": [
        "!pip install hazm"
      ],
      "execution_count": 3,
      "outputs": [
        {
          "output_type": "stream",
          "text": [
            "Requirement already satisfied: hazm in /usr/local/lib/python3.6/dist-packages (0.7.0)\n",
            "Requirement already satisfied: nltk==3.3 in /usr/local/lib/python3.6/dist-packages (from hazm) (3.3)\n",
            "Requirement already satisfied: libwapiti>=0.2.1; platform_system != \"Windows\" in /usr/local/lib/python3.6/dist-packages (from hazm) (0.2.1)\n",
            "Requirement already satisfied: six in /usr/local/lib/python3.6/dist-packages (from nltk==3.3->hazm) (1.15.0)\n"
          ],
          "name": "stdout"
        }
      ]
    },
    {
      "cell_type": "code",
      "metadata": {
        "id": "1rh6nrLka5Zk"
      },
      "source": [
        "from __future__ import unicode_literals\n",
        "from hazm import *"
      ],
      "execution_count": 4,
      "outputs": []
    },
    {
      "cell_type": "markdown",
      "metadata": {
        "id": "5xST28PQU58c"
      },
      "source": [
        "## **Mount corpora**"
      ]
    },
    {
      "cell_type": "code",
      "metadata": {
        "id": "HsyHzchDU4MF"
      },
      "source": [
        "file_path = '/content/drive/MyDrive/Multilingual_Multimodal_Unversal_MT/Parallel Corpora/Per-Eng/manythings/pes-eng/pes.txt'"
      ],
      "execution_count": 5,
      "outputs": []
    },
    {
      "cell_type": "markdown",
      "metadata": {
        "id": "5rmtGQSpWIRk"
      },
      "source": [
        "## **Preprocessing**"
      ]
    },
    {
      "cell_type": "code",
      "metadata": {
        "id": "zcSvWGE7Vzz1"
      },
      "source": [
        "def unicode_to_ascii(s):\n",
        "  return ''.join(c for c in unicodedata.normalize('NFD', s)\n",
        "      if unicodedata.category(c) != 'Mn') \n",
        "\n",
        "def preprocess_sentence(w):\n",
        "  w = unicode_to_ascii(w.lower().strip()) # lowercase\n",
        "  w = re.sub(r\"([?.!,¿])\", r\" \\1 \", w) # creating a space between every word and punctuation\n",
        "  w = re.sub(r'[\" \"]+', \" \", w)\n",
        "  w = re.sub(r\"[^a-zA-Z?.!,¿]+\", \" \", w) # replacing every word with space except those defined\n",
        "\n",
        "  w = w.strip() # remove space from beginning and end of string\n",
        "  w = '<start> '+ w + ' <end>' # later model needs this to know where to start and stop\n",
        "\n",
        "  return w\n",
        "\n",
        "def preprocess_per_sentence(w):\n",
        "  normalizer = Normalizer() # Persian normalizer instance (Hazm)\n",
        "  normalizer.normalize(w)\n",
        "  w = unicode_to_ascii(w.lower().strip()) # lowercase\n",
        "  w = re.sub(r'[\" \"]+', \" \", w)\n",
        "  w = re.sub(r\"([?.!,¿])\", r\" \\1 \", w)\n",
        "  w = '<start> '+ w + ' <end>'\n",
        "\n",
        "  return w\n"
      ],
      "execution_count": 6,
      "outputs": []
    },
    {
      "cell_type": "markdown",
      "metadata": {
        "id": "8jwu0zIHeN97"
      },
      "source": [
        "## **An example**"
      ]
    },
    {
      "cell_type": "code",
      "metadata": {
        "colab": {
          "base_uri": "https://localhost:8080/"
        },
        "id": "S_RB3V4QYL0q",
        "outputId": "931a4767-269f-49f6-cc05-917d5cee976d"
      },
      "source": [
        "eng_sentence = \"You have beautiful hands.\"\n",
        "per_sentence =\"تو دستهای زیبایی داری.\"\n",
        "\n",
        "\n",
        "print(preprocess_sentence(eng_sentence))\n",
        "print(preprocess_per_sentence(per_sentence))"
      ],
      "execution_count": 7,
      "outputs": [
        {
          "output_type": "stream",
          "text": [
            "<start> you have beautiful hands . <end>\n",
            "<start> تو دستهای زیبایی داری .  <end>\n"
          ],
          "name": "stdout"
        }
      ]
    },
    {
      "cell_type": "markdown",
      "metadata": {
        "id": "sqGOn_WcWboq"
      },
      "source": [
        "## **Create a dataset (word pair) from corpus**"
      ]
    },
    {
      "cell_type": "code",
      "metadata": {
        "id": "gGLaLO0leQeq"
      },
      "source": [
        "def create_dataset(path, num_examples):\n",
        "  lines = io.open(path, encoding=\"UTF-8\").read().strip().split('\\n')\n",
        "  word_pairs = [[preprocess_per_sentence(w) for w in l.split('\\t')]  for l in lines[:num_examples]]\n",
        "\n",
        "  return zip(*word_pairs) # zip used for parallel iteration"
      ],
      "execution_count": 8,
      "outputs": []
    },
    {
      "cell_type": "code",
      "metadata": {
        "id": "Yrjyp_mRSuLo"
      },
      "source": [
        "en, per, info = create_dataset(file_path, None) # info is an explanation which included in the corpus"
      ],
      "execution_count": 9,
      "outputs": []
    },
    {
      "cell_type": "code",
      "metadata": {
        "colab": {
          "base_uri": "https://localhost:8080/"
        },
        "id": "gt5XhN3PDLaH",
        "outputId": "14f45b32-80ed-4ce7-d6a4-0cbaee6232f4"
      },
      "source": [
        "print(en[-3])\n",
        "print(per[-3])\n",
        "print(info[-3])"
      ],
      "execution_count": 10,
      "outputs": [
        {
          "output_type": "stream",
          "text": [
            "<start> the difference between the right word and almost the right word is the difference between lightning and the lightning bug .  <end>\n",
            "<start> تفاوت بین کلمه صحیح و کلمه تقریبا صحیح مانند تفاوت بین مهتاب و کرم شب‌تاب است .  <end>\n",
            "<start> cc-by 2 . 0 (france) attribution: tatoeba . org #667975 (ck) & #7525272 (cojiluc) <end>\n"
          ],
          "name": "stdout"
        }
      ]
    },
    {
      "cell_type": "code",
      "metadata": {
        "id": "frvP8TX_WRox"
      },
      "source": [
        "def tokenize(lang):\n",
        "  language_tokenizer = tf.keras.preprocessing.text.Tokenizer(filters = '')\n",
        "  \n",
        "  # Creating the vocabulary index based on word frequency.\n",
        "  # 0 is a reserved index that won't be assigned to any word\n",
        "  language_tokenizer.fit_on_texts(lang) \n",
        "\n",
        "  # Transforming each text in texts to a sequence of integers\n",
        "  tensor = language_tokenizer.texts_to_sequences(lang) \n",
        "\n",
        "  # pads the sequences to the same length.\n",
        "  # seq = [[1], [2, 3], [4, 5, 6]]\n",
        "  # post-padding\n",
        "  # array([[1, 0, 0],\n",
        "  #          [2, 3, 0],\n",
        "  #          [4, 5, 6]])\n",
        "  tensor = tf.keras.preprocessing.sequence.pad_sequences(tensor, padding='post')\n",
        "  \n",
        "  return tensor, language_tokenizer"
      ],
      "execution_count": 11,
      "outputs": []
    },
    {
      "cell_type": "code",
      "metadata": {
        "id": "qnMUJ4JClpQC"
      },
      "source": [
        "def load_dataset(path, number_examples = None):\n",
        "  target_language, source_language, info = create_dataset(path, number_examples)\n",
        "\n",
        "  source_tensor, source_lang_tokenize = tokenize(source_language)\n",
        "  target_tensor, target_lang_tokenize = tokenize(target_language)\n",
        "\n",
        "  return source_tensor, target_tensor, source_lang_tokenize, target_lang_tokenize, info"
      ],
      "execution_count": 12,
      "outputs": []
    },
    {
      "cell_type": "markdown",
      "metadata": {
        "id": "r3ILFUvxnqJr"
      },
      "source": [
        "**Limit/ control the size of dataset to experiment faster**"
      ]
    },
    {
      "cell_type": "code",
      "metadata": {
        "id": "VTaJDsRLnobX"
      },
      "source": [
        "number_examples = 2270 # var\n",
        "source_tensor, target_tensor, source_lang, target_lang, info = load_dataset(file_path, number_examples)\n"
      ],
      "execution_count": 13,
      "outputs": []
    },
    {
      "cell_type": "code",
      "metadata": {
        "id": "lCyI1JTX1pQZ"
      },
      "source": [
        "# Calculating max_length of the source and target tensors\n",
        "max_length_target, max_length_source = target_tensor.shape[1], source_tensor.shape[1]\n",
        "\n",
        "# Using sklearn to creat training and validation sets: 80-20 split\n",
        "source_tensor_train, source_tensor_val, target_tensor_train, target_tensor_val = train_test_split(source_tensor, target_tensor, test_size = 0.2)"
      ],
      "execution_count": 14,
      "outputs": []
    },
    {
      "cell_type": "code",
      "metadata": {
        "colab": {
          "base_uri": "https://localhost:8080/"
        },
        "id": "cNQPRA-e4KgY",
        "outputId": "57a9beed-447c-4884-8122-a75e260d0a74"
      },
      "source": [
        "# Print info up to here\n",
        "print(\" training size of source (Per): \", len(source_tensor_train),\"\\n\", \"training size of target (Eng): \", len(target_tensor_train), \"\\n\", \"validation size of source (Per): \", len(source_tensor_val), \"\\n\", \"validation size of target (Eng): \", len(target_tensor_val))"
      ],
      "execution_count": 15,
      "outputs": [
        {
          "output_type": "stream",
          "text": [
            " training size of source (Per):  1816 \n",
            " training size of target (Eng):  1816 \n",
            " validation size of source (Per):  454 \n",
            " validation size of target (Eng):  454\n"
          ],
          "name": "stdout"
        }
      ]
    },
    {
      "cell_type": "markdown",
      "metadata": {
        "id": "yQef_1Ii_Nfk"
      },
      "source": [
        "### **Finding the word from their indices or vice versa (word-index dictionary)**"
      ]
    },
    {
      "cell_type": "code",
      "metadata": {
        "id": "XuZ_aPR0_hKI"
      },
      "source": [
        "def convert(language, tensor):\n",
        "  for t in tensor:\n",
        "    if t!=0:\n",
        "      print(\"%d ––––––> %s\" % (t, language.index_word[t]))"
      ],
      "execution_count": 16,
      "outputs": []
    },
    {
      "cell_type": "code",
      "metadata": {
        "colab": {
          "base_uri": "https://localhost:8080/"
        },
        "id": "qt3pdlGfByaM",
        "outputId": "7425e978-5b1a-494b-bfc2-5b33fc727f41"
      },
      "source": [
        "print(\"mapping source language: index to word\")\n",
        "convert(source_lang, source_tensor_train[0])\n",
        "print(\"\")\n",
        "print(\"mapping target language: index to word\")\n",
        "convert(target_lang, target_tensor_train[0])"
      ],
      "execution_count": 17,
      "outputs": [
        {
          "output_type": "stream",
          "text": [
            "mapping source language: index to word\n",
            "1 ––––––> <start>\n",
            "10 ––––––> تام\n",
            "23 ––––––> برای\n",
            "91 ––––––> بیرون\n",
            "469 ––––––> ماندن\n",
            "13 ––––––> در\n",
            "76 ––––––> تمام\n",
            "3239 ––––––> شب،\n",
            "47 ––––––> ماری\n",
            "5 ––––––> را\n",
            "1415 ––––––> سرزنش\n",
            "18 ––––––> کرد\n",
            "3 ––––––> .\n",
            "2 ––––––> <end>\n",
            "\n",
            "mapping target language: index to word\n",
            "1 ––––––> <start>\n",
            "11 ––––––> tom\n",
            "1129 ––––––> chewed\n",
            "56 ––––––> mary\n",
            "76 ––––––> out\n",
            "22 ––––––> for\n",
            "452 ––––––> staying\n",
            "76 ––––––> out\n",
            "41 ––––––> all\n",
            "138 ––––––> night\n",
            "143 ––––––> long\n",
            "3 ––––––> .\n",
            "2 ––––––> <end>\n"
          ],
          "name": "stdout"
        }
      ]
    },
    {
      "cell_type": "markdown",
      "metadata": {
        "id": "HBT8Njk4H8ts"
      },
      "source": [
        "## **Dataset preparation for Tensorflow**\n"
      ]
    },
    {
      "cell_type": "code",
      "metadata": {
        "colab": {
          "base_uri": "https://localhost:8080/"
        },
        "id": "AqCVXCNqH5Lm",
        "outputId": "a6b9f825-e39b-4533-c939-2b636ed1bc33"
      },
      "source": [
        "#Hyperparameters\n",
        "BATCH_SIZE = 64\n",
        "steps_per_epoch = len(source_tensor_train) // BATCH_SIZE\n",
        "embedding_dimension = 256\n",
        "units = 1024\n",
        "BUFFER_SIZE = len(source_tensor_train)\n",
        "vocabulary_source_size = len(source_lang.word_index) + 1\n",
        "vocabulary_target_size = len(target_lang.word_index) + 1\n",
        "\n",
        "print(\"Persian vocabulary size: \", vocabulary_source_size)\n",
        "print(\"English vocabulary size: \", vocabulary_target_size)"
      ],
      "execution_count": 18,
      "outputs": [
        {
          "output_type": "stream",
          "text": [
            "Persian vocabulary size:  3710\n",
            "English vocabulary size:  2564\n"
          ],
          "name": "stdout"
        }
      ]
    },
    {
      "cell_type": "code",
      "metadata": {
        "id": "p1P4jQ2WX1u_"
      },
      "source": [
        "# Keras models accept three types of inputs: Numpy array, TF dataset objects(sth I used here), and Python generators\n",
        "dataset = tf.data.Dataset.from_tensor_slices((source_tensor_train, target_tensor_train)).shuffle(BUFFER_SIZE)\n",
        "# drop_remainder ignores the last batch\n",
        "dataset = dataset.batch(BATCH_SIZE, drop_remainder=True)"
      ],
      "execution_count": 19,
      "outputs": []
    },
    {
      "cell_type": "markdown",
      "metadata": {
        "id": "TzaRIW_kydEf"
      },
      "source": [
        "### **An example**"
      ]
    },
    {
      "cell_type": "code",
      "metadata": {
        "colab": {
          "base_uri": "https://localhost:8080/"
        },
        "id": "ztLONwXWeVOy",
        "outputId": "0ac9dce7-7145-4870-fa45-21342013b1c4"
      },
      "source": [
        "example_source_batch, example_target_batch = next(iter(dataset))\n",
        "example_source_batch.shape, example_target_batch.shape"
      ],
      "execution_count": 20,
      "outputs": [
        {
          "output_type": "execute_result",
          "data": {
            "text/plain": [
              "(TensorShape([64, 27]), TensorShape([64, 25]))"
            ]
          },
          "metadata": {
            "tags": []
          },
          "execution_count": 20
        }
      ]
    },
    {
      "cell_type": "markdown",
      "metadata": {
        "id": "U6w8zhe8DWpJ"
      },
      "source": [
        "## **Designing encoder and decoder model with attention**"
      ]
    },
    {
      "cell_type": "markdown",
      "metadata": {
        "id": "dDkzWA-Uyq0F"
      },
      "source": [
        "## **Encoder**\n",
        "![Screen Shot 2021-01-18 at 23.23.56.png](data:image/png;base64,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)"
      ]
    },
    {
      "cell_type": "code",
      "metadata": {
        "id": "n7UDvKLRyqGc"
      },
      "source": [
        "# ENCODER:\n",
        "# Embedding layer (1)\n",
        "# GRU layer (2)\n",
        "# First hidden layer shape is: [batch_size, number of neurons]\n",
        "# Second or output layer shape is: [batch_size, max_length, number of neurons]\n",
        "#..................................................................\n",
        "class Encoder(tf.keras.Model):\n",
        "  def __init__(self, vocabulary_size, embedding_dimension, encoder_units, batch_size):\n",
        "    super(Encoder, self).__init__()\n",
        "    self.batch_size = batch_size\n",
        "    self.encoder_units = encoder_units\n",
        "    self.embedding = tf.keras.layers.Embedding(vocabulary_size, embedding_dimension)\n",
        "    self.gru = tf.keras.layers.GRU(self.encoder_units, \n",
        "                                              return_sequences=True,\n",
        "                                              return_state=True,\n",
        "                                              recurrent_initializer='glorot_uniform') # default: orthogonal\n",
        "  \n",
        "  def call(self, x, hidden):\n",
        "    x = self.embedding(x)\n",
        "    output, state = self.gru(x, initial_state=hidden)\n",
        "    return output, state\n",
        "  \n",
        "\n",
        "  def initialize_hidden_state(self):\n",
        "    return tf.zeros((self.batch_size, self.encoder_units))"
      ],
      "execution_count": 21,
      "outputs": []
    },
    {
      "cell_type": "code",
      "metadata": {
        "id": "VYWjSxnEy8Y2"
      },
      "source": [
        "encoder = Encoder(vocabulary_source_size, embedding_dimension, units, BATCH_SIZE)"
      ],
      "execution_count": 22,
      "outputs": []
    },
    {
      "cell_type": "markdown",
      "metadata": {
        "id": "OVQivzfo2YIS"
      },
      "source": [
        "### **An example of encoder**"
      ]
    },
    {
      "cell_type": "code",
      "metadata": {
        "colab": {
          "base_uri": "https://localhost:8080/"
        },
        "id": "jjbn8rGg2Xa6",
        "outputId": "21b5624e-a7c5-47ce-9742-4ffaa6f0867c"
      },
      "source": [
        "# Sample\n",
        "sample_hidden = encoder.initialize_hidden_state()\n",
        "sample_output, sample_hidden = encoder(example_source_batch, sample_hidden)\n",
        "print ('Encoder output shape: (batch size, sequence length, units) {}'.format(sample_output.shape))\n",
        "print ('Encoder hidden state shape: (batch size, units) {}'.format(sample_hidden.shape))"
      ],
      "execution_count": 23,
      "outputs": [
        {
          "output_type": "stream",
          "text": [
            "Encoder output shape: (batch size, sequence length, units) (64, 27, 1024)\n",
            "Encoder hidden state shape: (batch size, units) (64, 1024)\n"
          ],
          "name": "stdout"
        }
      ]
    },
    {
      "cell_type": "markdown",
      "metadata": {
        "id": "mwfn5Bm7X9Qt"
      },
      "source": [
        "### **Attention Mechanism**"
      ]
    },
    {
      "cell_type": "markdown",
      "metadata": {
        "id": "q1EVXGvycfus"
      },
      "source": [
        "Notes regarding attention mechanism:\n",
        "1.   First, the encoder passes a lot more data to the decoder. Instead of passing the last hidden state of the encoding stage, the encoder passes all the hidden states to the decoder\n",
        "2.   Second, an attention decoder does an extra step before producing its output.\n",
        "\n",
        "![Screen Shot 2021-01-19 at 01.04.20.png](data:image/png;base64,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)"
      ]
    },
    {
      "cell_type": "code",
      "metadata": {
        "id": "UxKQ26LuYk8r"
      },
      "source": [
        "class Attention(tf.keras.layers.Layer):\n",
        "  def __init__(self, units):\n",
        "    super(Attention, self).__init__()\n",
        "    self.W1 = tf.keras.layers.Dense(units)\n",
        "    self.W2 = tf.keras.layers.Dense(units)\n",
        "    self.V = tf.keras.layers.Dense(1)\n",
        "\n",
        "  def call(self, query, values): # values = encoder_outputs\n",
        "    query_with_time_axis = tf.expand_dims(query, 1) # Returns a tensor with a length 1 axis inserted at index axis\n",
        "    \n",
        "    # FC = Fully connected (dense) layer\n",
        "    # score = FC (tanh(FC(EO) + FC(H)))\n",
        "    score = self.V(tf.nn.tanh(self.W1(query_with_time_axis) + self.W2(values)))\n",
        "    \n",
        "    # attention weights = softmax(score, axis = 1)\n",
        "    attention_weights = tf.nn.softmax(score, axis = 1)\n",
        "    \n",
        "    # context vector = sum(attention weights * Encoder_output, axis = 1)\n",
        "    context_vector = attention_weights * values\n",
        "    context_vector = tf.reduce_sum(context_vector, axis = 1) #Computes the sum of elements across dimensions of a tensor.\n",
        "\n",
        "    return context_vector, attention_weights"
      ],
      "execution_count": 24,
      "outputs": []
    },
    {
      "cell_type": "markdown",
      "metadata": {
        "id": "oogknnskjdHz"
      },
      "source": [
        "**An example of attention**"
      ]
    },
    {
      "cell_type": "code",
      "metadata": {
        "colab": {
          "base_uri": "https://localhost:8080/"
        },
        "id": "vVSvZYJGjcGB",
        "outputId": "1ce3b877-446d-4984-f573-2892d2b21fa0"
      },
      "source": [
        "attention_layer = Attention(10)\n",
        "attention_result, attention_weights = attention_layer(sample_hidden, sample_output)\n",
        "\n",
        "print(\"Attention result shape: (batch size, units) {}\".format(attention_result.shape))\n",
        "print(\"Attention weights shape: (batch_size, sequence_length, 1) {}\".format(attention_weights.shape))"
      ],
      "execution_count": 25,
      "outputs": [
        {
          "output_type": "stream",
          "text": [
            "Attention result shape: (batch size, units) (64, 1024)\n",
            "Attention weights shape: (batch_size, sequence_length, 1) (64, 27, 1)\n"
          ],
          "name": "stdout"
        }
      ]
    },
    {
      "cell_type": "markdown",
      "metadata": {
        "id": "UNganCs8pcy3"
      },
      "source": [
        "## **Decoder**"
      ]
    },
    {
      "cell_type": "code",
      "metadata": {
        "id": "yrosmBb2pe2g"
      },
      "source": [
        "class Decoder(tf.keras.Model):\n",
        "  def __init__(self, vocabulary_size, embedding_dim, decoder_units, batch_size):\n",
        "    super(Decoder, self).__init__()\n",
        "    self.batch_size = batch_size\n",
        "    self.decoder_units = decoder_units\n",
        "    self.embedding = tf.keras.layers.Embedding(vocabulary_size, embedding_dimension)\n",
        "    self.gru = tf.keras.layers.GRU(self.decoder_units, return_sequences = True, return_state = True, recurrent_initializer = 'glorot_uniform')\n",
        "    self.fc = tf.keras.layers.Dense(vocabulary_size)\n",
        "    self.attention  = Attention(self.decoder_units)\n",
        "\n",
        "  def call(self, x, hidden, encoder_output):\n",
        "    context_vector, attention_weights = self.attention(hidden, encoder_output)\n",
        "    x = self.embedding(x)\n",
        "    x = tf.concat([tf.expand_dims(context_vector, 1), x], axis=-1)\n",
        "    output, state = self.gru(x)\n",
        "    output = tf.reshape(output, (-1, output.shape[2]))\n",
        "    x = self.fc(output)\n",
        "\n",
        "    return x, state, attention_weights"
      ],
      "execution_count": 26,
      "outputs": []
    },
    {
      "cell_type": "code",
      "metadata": {
        "colab": {
          "base_uri": "https://localhost:8080/"
        },
        "id": "3c5Gz1T8wM0z",
        "outputId": "639a5c54-00eb-4340-ce1f-87e94de6995e"
      },
      "source": [
        "decoder = Decoder(vocabulary_target_size, embedding_dimension, units, BATCH_SIZE)\n",
        "sample_decoder_output, _, _ = decoder(tf.random.uniform((BATCH_SIZE, 1)), sample_hidden, sample_output)\n",
        "print ('Decoder output shape: (batch_size, vocab size) {}'.format(sample_decoder_output.shape))"
      ],
      "execution_count": 27,
      "outputs": [
        {
          "output_type": "stream",
          "text": [
            "Decoder output shape: (batch_size, vocab size) (64, 2564)\n"
          ],
          "name": "stdout"
        }
      ]
    },
    {
      "cell_type": "markdown",
      "metadata": {
        "id": "SGB2eSdNxU1a"
      },
      "source": [
        "### **Optimizing model in Keras**"
      ]
    },
    {
      "cell_type": "code",
      "metadata": {
        "id": "b4TXq_Y3xmdK"
      },
      "source": [
        "optimizer = tf.keras.optimizers.Adam()\n",
        "loss_object = tf.keras.losses.SparseCategoricalCrossentropy(from_logits=True, reduction='none')\n",
        "\n",
        "def loss_function(real, prediction):\n",
        "  mask = tf.math.logical_not(tf.math.equal(real, 0))\n",
        "  loss_ = loss_object(real, prediction)\n",
        "  mask = tf.cast(mask, dtype=loss_.dtype)\n",
        "  loss_ *= mask\n",
        "\n",
        "  return tf.reduce_mean(loss_)"
      ],
      "execution_count": 28,
      "outputs": []
    },
    {
      "cell_type": "markdown",
      "metadata": {
        "id": "6e-DVod3zck7"
      },
      "source": [
        "### **Implementing checkpoints to save the model and resume fitting**"
      ]
    },
    {
      "cell_type": "code",
      "metadata": {
        "id": "QhJHHFX_0Mmk"
      },
      "source": [
        "import os"
      ],
      "execution_count": 29,
      "outputs": []
    },
    {
      "cell_type": "code",
      "metadata": {
        "id": "06n69GMIznGm"
      },
      "source": [
        "checkpoint_dir = '/content/drive/MyDrive/Multilingual_Multimodal_Unversal_MT/Parallel Corpora/Per-Eng/manythings/Training-Checkpoints/'\n",
        "checkpoint_prefix = os.path.join(checkpoint_dir, \"ckpt\")\n",
        "checkpoint = tf.train.Checkpoint(optimizer=optimizer,\n",
        "                                 encoder=encoder,\n",
        "                                 decoder=decoder)"
      ],
      "execution_count": 30,
      "outputs": []
    },
    {
      "cell_type": "markdown",
      "metadata": {
        "id": "w-24BnyJ0bW5"
      },
      "source": [
        "## **Training**"
      ]
    },
    {
      "cell_type": "code",
      "metadata": {
        "id": "qHbn5Vos0P4O"
      },
      "source": [
        "@tf.function\n",
        "def train_step(input, target, encoder_hidden):\n",
        "  loss = 0\n",
        "  with tf.GradientTape() as tape:\n",
        "    encoder_output, encoder_hidden = encoder(input, encoder_hidden)\n",
        "    decoder_hidden = encoder_hidden\n",
        "    decoder_input = tf.expand_dims([target_lang.word_index['<start>']] * BATCH_SIZE, 1)\n",
        "    for t in range(1, target.shape[1]):\n",
        "      predictions, decoder_hidden, _ = decoder(decoder_input, decoder_hidden, encoder_output)\n",
        "      loss += loss_function(target[:,  t], predictions)\n",
        "      decoder_input = tf.expand_dims(target[:, t], 1)\n",
        "  batch_loss = (loss / int(target.shape[1]))\n",
        "  variables = encoder.trainable_variables + decoder.trainable_variables\n",
        "  gradients = tape.gradient(loss, variables)\n",
        "  optimizer.apply_gradients(zip(gradients, variables))\n",
        "\n",
        "  return batch_loss"
      ],
      "execution_count": 31,
      "outputs": []
    },
    {
      "cell_type": "code",
      "metadata": {
        "id": "AkdpF5OQEa2q"
      },
      "source": [
        "EPOCHS = 40\n",
        "import time"
      ],
      "execution_count": 32,
      "outputs": []
    },
    {
      "cell_type": "code",
      "metadata": {
        "colab": {
          "base_uri": "https://localhost:8080/"
        },
        "id": "Rlq6MukAEgri",
        "outputId": "4ab28fc3-875c-473f-9de8-c9926bb14630"
      },
      "source": [
        "for epoch in range(EPOCHS):\n",
        "  start = time.time()\n",
        "\n",
        "  encoder_hidden = encoder.initialize_hidden_state()\n",
        "  total_loss = 0\n",
        "\n",
        "  for(batch, (input, target)) in enumerate(dataset.take(steps_per_epoch)):\n",
        "    batch_loss = train_step(input, target, encoder_hidden)\n",
        "    total_loss += batch_loss\n",
        "\n",
        "    if batch % 100 ==0:\n",
        "      print('Epoch {} Batch {} Loss {:.4f}'.format(epoch + 1, batch, batch_loss.numpy()))\n",
        "    \n",
        "  # save checkpoint the model after 20 epochs\n",
        "  if (epoch + 1) % 20 == 0:\n",
        "    checkpoint.save(file_prefix = checkpoint_prefix)\n",
        "\n",
        "  print('Epoch {} Loss {:.4f}'.format(epoch + 1, total_loss / steps_per_epoch))\n",
        "  print('Time taken for 1 epoch {} sec\\n'.format(time.time() - start))"
      ],
      "execution_count": 33,
      "outputs": [
        {
          "output_type": "stream",
          "text": [
            "Epoch 1 Batch 0 Loss 2.7716\n",
            "Epoch 1 Loss 2.1518\n",
            "Time taken for 1 epoch 46.19812512397766 sec\n",
            "\n",
            "Epoch 2 Batch 0 Loss 1.8783\n",
            "Epoch 2 Loss 1.7932\n",
            "Time taken for 1 epoch 12.286036491394043 sec\n",
            "\n",
            "Epoch 3 Batch 0 Loss 1.5418\n",
            "Epoch 3 Loss 1.6863\n",
            "Time taken for 1 epoch 12.269570112228394 sec\n",
            "\n",
            "Epoch 4 Batch 0 Loss 1.6399\n",
            "Epoch 4 Loss 1.5931\n",
            "Time taken for 1 epoch 12.221363544464111 sec\n",
            "\n",
            "Epoch 5 Batch 0 Loss 1.5413\n",
            "Epoch 5 Loss 1.5101\n",
            "Time taken for 1 epoch 12.199315786361694 sec\n",
            "\n",
            "Epoch 6 Batch 0 Loss 1.5493\n",
            "Epoch 6 Loss 1.4413\n",
            "Time taken for 1 epoch 12.24128246307373 sec\n",
            "\n",
            "Epoch 7 Batch 0 Loss 1.5028\n",
            "Epoch 7 Loss 1.3720\n",
            "Time taken for 1 epoch 12.19942045211792 sec\n",
            "\n",
            "Epoch 8 Batch 0 Loss 1.2650\n",
            "Epoch 8 Loss 1.3101\n",
            "Time taken for 1 epoch 12.221567392349243 sec\n",
            "\n",
            "Epoch 9 Batch 0 Loss 1.1616\n",
            "Epoch 9 Loss 1.2497\n",
            "Time taken for 1 epoch 12.218627214431763 sec\n",
            "\n",
            "Epoch 10 Batch 0 Loss 1.2147\n",
            "Epoch 10 Loss 1.1871\n",
            "Time taken for 1 epoch 12.193275690078735 sec\n",
            "\n",
            "Epoch 11 Batch 0 Loss 1.0809\n",
            "Epoch 11 Loss 1.1291\n",
            "Time taken for 1 epoch 12.219348907470703 sec\n",
            "\n",
            "Epoch 12 Batch 0 Loss 0.9932\n",
            "Epoch 12 Loss 1.0728\n",
            "Time taken for 1 epoch 12.257281064987183 sec\n",
            "\n",
            "Epoch 13 Batch 0 Loss 0.9057\n",
            "Epoch 13 Loss 1.0142\n",
            "Time taken for 1 epoch 12.294753313064575 sec\n",
            "\n",
            "Epoch 14 Batch 0 Loss 0.9225\n",
            "Epoch 14 Loss 0.9599\n",
            "Time taken for 1 epoch 12.298104763031006 sec\n",
            "\n",
            "Epoch 15 Batch 0 Loss 0.8706\n",
            "Epoch 15 Loss 0.9013\n",
            "Time taken for 1 epoch 12.257238864898682 sec\n",
            "\n",
            "Epoch 16 Batch 0 Loss 0.7742\n",
            "Epoch 16 Loss 0.8450\n",
            "Time taken for 1 epoch 12.233152866363525 sec\n",
            "\n",
            "Epoch 17 Batch 0 Loss 0.7873\n",
            "Epoch 17 Loss 0.7946\n",
            "Time taken for 1 epoch 12.132497072219849 sec\n",
            "\n",
            "Epoch 18 Batch 0 Loss 0.7006\n",
            "Epoch 18 Loss 0.7391\n",
            "Time taken for 1 epoch 12.149203538894653 sec\n",
            "\n",
            "Epoch 19 Batch 0 Loss 0.7020\n",
            "Epoch 19 Loss 0.6983\n",
            "Time taken for 1 epoch 12.038818597793579 sec\n",
            "\n",
            "Epoch 20 Batch 0 Loss 0.6659\n",
            "Epoch 20 Loss 0.6493\n",
            "Time taken for 1 epoch 13.008372068405151 sec\n",
            "\n",
            "Epoch 21 Batch 0 Loss 0.4906\n",
            "Epoch 21 Loss 0.5981\n",
            "Time taken for 1 epoch 12.122205018997192 sec\n",
            "\n",
            "Epoch 22 Batch 0 Loss 0.4610\n",
            "Epoch 22 Loss 0.5480\n",
            "Time taken for 1 epoch 12.141056060791016 sec\n",
            "\n",
            "Epoch 23 Batch 0 Loss 0.4482\n",
            "Epoch 23 Loss 0.4972\n",
            "Time taken for 1 epoch 12.14488935470581 sec\n",
            "\n",
            "Epoch 24 Batch 0 Loss 0.4018\n",
            "Epoch 24 Loss 0.4503\n",
            "Time taken for 1 epoch 12.147729396820068 sec\n",
            "\n",
            "Epoch 25 Batch 0 Loss 0.3577\n",
            "Epoch 25 Loss 0.4072\n",
            "Time taken for 1 epoch 12.171619653701782 sec\n",
            "\n",
            "Epoch 26 Batch 0 Loss 0.3065\n",
            "Epoch 26 Loss 0.3592\n",
            "Time taken for 1 epoch 12.249398469924927 sec\n",
            "\n",
            "Epoch 27 Batch 0 Loss 0.2946\n",
            "Epoch 27 Loss 0.3128\n",
            "Time taken for 1 epoch 12.242554187774658 sec\n",
            "\n",
            "Epoch 28 Batch 0 Loss 0.2241\n",
            "Epoch 28 Loss 0.2759\n",
            "Time taken for 1 epoch 12.242684602737427 sec\n",
            "\n",
            "Epoch 29 Batch 0 Loss 0.2142\n",
            "Epoch 29 Loss 0.2347\n",
            "Time taken for 1 epoch 12.249061822891235 sec\n",
            "\n",
            "Epoch 30 Batch 0 Loss 0.1662\n",
            "Epoch 30 Loss 0.1979\n",
            "Time taken for 1 epoch 12.243407964706421 sec\n",
            "\n",
            "Epoch 31 Batch 0 Loss 0.1871\n",
            "Epoch 31 Loss 0.1602\n",
            "Time taken for 1 epoch 12.241079092025757 sec\n",
            "\n",
            "Epoch 32 Batch 0 Loss 0.1221\n",
            "Epoch 32 Loss 0.1314\n",
            "Time taken for 1 epoch 12.248953342437744 sec\n",
            "\n",
            "Epoch 33 Batch 0 Loss 0.0969\n",
            "Epoch 33 Loss 0.1072\n",
            "Time taken for 1 epoch 12.21259617805481 sec\n",
            "\n",
            "Epoch 34 Batch 0 Loss 0.0984\n",
            "Epoch 34 Loss 0.0871\n",
            "Time taken for 1 epoch 12.234366655349731 sec\n",
            "\n",
            "Epoch 35 Batch 0 Loss 0.0588\n",
            "Epoch 35 Loss 0.0696\n",
            "Time taken for 1 epoch 12.252026319503784 sec\n",
            "\n",
            "Epoch 36 Batch 0 Loss 0.0501\n",
            "Epoch 36 Loss 0.0548\n",
            "Time taken for 1 epoch 12.268890619277954 sec\n",
            "\n",
            "Epoch 37 Batch 0 Loss 0.0478\n",
            "Epoch 37 Loss 0.0429\n",
            "Time taken for 1 epoch 12.272372245788574 sec\n",
            "\n",
            "Epoch 38 Batch 0 Loss 0.0314\n",
            "Epoch 38 Loss 0.0343\n",
            "Time taken for 1 epoch 12.223230838775635 sec\n",
            "\n",
            "Epoch 39 Batch 0 Loss 0.0236\n",
            "Epoch 39 Loss 0.0276\n",
            "Time taken for 1 epoch 12.152856826782227 sec\n",
            "\n",
            "Epoch 40 Batch 0 Loss 0.0224\n",
            "Epoch 40 Loss 0.0224\n",
            "Time taken for 1 epoch 12.927778005599976 sec\n",
            "\n"
          ],
          "name": "stdout"
        }
      ]
    },
    {
      "cell_type": "markdown",
      "metadata": {
        "id": "I5y7LBu-Np20"
      },
      "source": [
        "## **Translation and Testing the model**"
      ]
    },
    {
      "cell_type": "code",
      "metadata": {
        "id": "V4WIaHtLNpme"
      },
      "source": [
        "def evaluate(sentence):\n",
        "  attention_plot = np.zeros((max_length_target, max_length_source))\n",
        "\n",
        "  sentence = preprocess_per_sentence(sentence)\n",
        "\n",
        "  inputs = [source_lang.word_index[i] for i in sentence.split(' ')]\n",
        "  inputs = tf.keras.preprocessing.sequence.pad_sequences([inputs], \n",
        "                                                         maxlen=max_length_source, \n",
        "                                                         padding='post')\n",
        "  inputs = tf.convert_to_tensor(inputs)\n",
        "  result = ''\n",
        "  hidden = [tf.zeros((1, units))]\n",
        "  encoder_out, encoder_hidden = encoder(inputs, hidden)\n",
        "  decoder_hidden = encoder_hidden\n",
        "  decoder_input = tf.expand_dims([target_lang.word_index['<start>']], 0)\n",
        "\n",
        "  for t in range(max_length_target):\n",
        "    predictions, decoder_hidden, attention_weights = decoder(decoder_input, decoder_hidden, encoder_out)\n",
        "    attention_weights = tf.reshape(attention_weights, (-1, ))\n",
        "    attention_plot[t] = attention_weights.numpy()\n",
        "\n",
        "    predicted_id = tf.argmax(predictions[0]).numpy()\n",
        "\n",
        "    result += target_lang.index_word[predicted_id] + ' '\n",
        "\n",
        "    if target_lang.index_word[predicted_id] == '<end>':\n",
        "      return result, sentence, attention_plot\n",
        "\n",
        "    decoder_input = tf.expand_dims([predicted_id], 0)\n",
        "\n",
        "  return result, sentence, attention_plot"
      ],
      "execution_count": 97,
      "outputs": []
    },
    {
      "cell_type": "markdown",
      "metadata": {
        "id": "J6gzFJzmR9RE"
      },
      "source": [
        "### **Plot the attention weights**"
      ]
    },
    {
      "cell_type": "code",
      "metadata": {
        "id": "By6s053ITu6t"
      },
      "source": [
        "import matplotlib.pyplot as plt"
      ],
      "execution_count": 98,
      "outputs": []
    },
    {
      "cell_type": "code",
      "metadata": {
        "id": "HP0CmPngSA2h"
      },
      "source": [
        "def plot_attention(attention, sentence, predicted_sentence):\n",
        "  fig = plt.figure(figsize=(10,10))\n",
        "  ax = fig.add_subplot(1, 1, 1)\n",
        "  ax.matshow(attention, cmap='inferno')\n",
        "\n",
        "  fontdict = {'fontsize': 14}\n",
        "\n",
        "  ax.set_xticklabels([''] + sentence, fontdict=fontdict, rotation=90)\n",
        "  ax.set_yticklabels([''] + predicted_sentence, fontdict=fontdict)\n",
        "\n",
        "  ax.xaxis.set_major_locator(ticker.MultipleLocator(1))\n",
        "  ax.yaxis.set_major_locator(ticker.MultipleLocator(1))\n",
        "\n",
        "  plt.show()"
      ],
      "execution_count": 123,
      "outputs": []
    },
    {
      "cell_type": "markdown",
      "metadata": {
        "id": "lh5lues2SGQT"
      },
      "source": [
        "**Translation**"
      ]
    },
    {
      "cell_type": "code",
      "metadata": {
        "id": "qxo_GjihSDpZ"
      },
      "source": [
        "def translate(sentence):\n",
        "  result, sentence, attention_plot = evaluate(sentence)\n",
        "\n",
        "  print('Input: %s' % (sentence))\n",
        "  print('Predicted translation: {}'.format(result))\n",
        "\n",
        "  attention_plot = attention_plot[:len(result.split(' ')), :len(sentence.split(' '))]\n",
        "  plot_attention(attention_plot, sentence.split(' '), result.split(' '))"
      ],
      "execution_count": 100,
      "outputs": []
    },
    {
      "cell_type": "markdown",
      "metadata": {
        "id": "P4YaPE8pSKr7"
      },
      "source": [
        "### **Restore the checkpoints and test the model**"
      ]
    },
    {
      "cell_type": "code",
      "metadata": {
        "colab": {
          "base_uri": "https://localhost:8080/"
        },
        "id": "4avDYm3USOgi",
        "outputId": "6cf3c8cf-cc6a-47d7-c76c-67ef57228f80"
      },
      "source": [
        "#checkpoint directory declared before\n",
        "checkpoint.restore(tf.train.latest_checkpoint(checkpoint_dir))"
      ],
      "execution_count": 101,
      "outputs": [
        {
          "output_type": "execute_result",
          "data": {
            "text/plain": [
              "<tensorflow.python.training.tracking.util.CheckpointLoadStatus at 0x7fcc8f3a5f98>"
            ]
          },
          "metadata": {
            "tags": []
          },
          "execution_count": 101
        }
      ]
    },
    {
      "cell_type": "markdown",
      "metadata": {
        "id": "n3gIPmtIpa5u"
      },
      "source": [
        "**First attempt**"
      ]
    },
    {
      "cell_type": "code",
      "metadata": {
        "colab": {
          "base_uri": "https://localhost:8080/",
          "height": 695
        },
        "id": "IWw6FwX4SeTy",
        "outputId": "2d6a7293-8bf8-49d8-fe35-a8c4cfc1d4a1"
      },
      "source": [
        "translate('بیا تلویزیون ببینیم')"
      ],
      "execution_count": 124,
      "outputs": [
        {
          "output_type": "stream",
          "text": [
            "Input: <start> بیا تلویزیون ببینیم <end>\n",
            "Predicted translation: let's watch tv . <end> \n"
          ],
          "name": "stdout"
        },
        {
          "output_type": "display_data",
          "data": {
            "image/png": "[encoded data removed]",
            "text/plain": [
              "<Figure size 720x720 with 1 Axes>"
            ]
          },
          "metadata": {
            "tags": [],
            "needs_background": "light"
          }
        }
      ]
    },
    {
      "cell_type": "markdown",
      "metadata": {
        "id": "IJyWXcjSpgAT"
      },
      "source": [
        "**Second attempt**"
      ]
    },
    {
      "cell_type": "code",
      "metadata": {
        "colab": {
          "base_uri": "https://localhost:8080/",
          "height": 530
        },
        "id": "veFQygCBphSk",
        "outputId": "136a00dd-7462-40ac-9583-f47092ae1966"
      },
      "source": [
        "translate('زندگی مثل دوچرخه سواری است برای حفظ تعادل باید در حرکت باشید')"
      ],
      "execution_count": 125,
      "outputs": [
        {
          "output_type": "stream",
          "text": [
            "Input: <start> زندگی مثل دوچرخه سواری است برای حفظ تعادل باید در حرکت باشید <end>\n",
            "Predicted translation: being , it's like riding a bicycle . <end> \n"
          ],
          "name": "stdout"
        },
        {
          "output_type": "display_data",
          "data": {
            "image/png": "[encoded data removed]",
            "text/plain": [
              "<Figure size 720x720 with 1 Axes>"
            ]
          },
          "metadata": {
            "tags": [],
            "needs_background": "light"
          }
        }
      ]
    }
  ]
}